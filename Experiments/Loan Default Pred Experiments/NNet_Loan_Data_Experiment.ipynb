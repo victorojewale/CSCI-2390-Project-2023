{
  "nbformat": 4,
  "nbformat_minor": 0,
  "metadata": {
    "colab": {
      "provenance": []
    },
    "kernelspec": {
      "name": "python3",
      "display_name": "Python 3"
    },
    "language_info": {
      "name": "python"
    }
  },
  "cells": [
    {
      "cell_type": "code",
      "execution_count": 1,
      "metadata": {
        "colab": {
          "base_uri": "https://localhost:8080/"
        },
        "id": "7rf8nKG-YOyG",
        "outputId": "777ed8ff-e7f8-4f40-c109-5b3f0f2d3c88"
      },
      "outputs": [
        {
          "output_type": "stream",
          "name": "stderr",
          "text": [
            "/usr/local/lib/python3.10/dist-packages/sklearn/preprocessing/_encoders.py:868: FutureWarning: `sparse` was renamed to `sparse_output` in version 1.2 and will be removed in 1.4. `sparse_output` is ignored unless you leave `sparse` to its default value.\n",
            "  warnings.warn(\n"
          ]
        }
      ],
      "source": [
        "# Import necessary libraries\n",
        "import pandas as pd\n",
        "from sklearn.model_selection import train_test_split\n",
        "from sklearn.preprocessing import OneHotEncoder, StandardScaler\n",
        "import torch\n",
        "import torch.nn as nn\n",
        "import torch.optim as optim\n",
        "import time\n",
        "\n",
        "# Load the dataset\n",
        "\n",
        "train_data = pd.read_csv(\"train.csv\")\n",
        "\n",
        "\n",
        "\n",
        "# Separate the target from features\n",
        "X = train_data.drop('Loan Status', axis=1)\n",
        "y = train_data['Loan Status']\n",
        "\n",
        "# Identify categorical and numerical columns\n",
        "categorical_columns = X.select_dtypes(include=['object']).columns.tolist()\n",
        "numerical_columns = X.select_dtypes(exclude=['object']).columns.tolist()\n",
        "\n",
        "# One-hot encode categorical columns\n",
        "encoder = OneHotEncoder(drop='first', sparse=False)\n",
        "encoded_features = encoder.fit_transform(X[categorical_columns])\n",
        "encoded_df = pd.DataFrame(encoded_features, columns=encoder.get_feature_names_out(categorical_columns))\n",
        "\n",
        "# Combine encoded and numerical features\n",
        "X_encoded = pd.concat([X.drop(categorical_columns, axis=1), encoded_df], axis=1)\n",
        "\n",
        "# Standardize numerical features\n",
        "scaler = StandardScaler()\n",
        "X_encoded[numerical_columns] = scaler.fit_transform(X_encoded[numerical_columns])\n",
        "\n",
        "# Split data into training and validation sets\n",
        "X_train, X_val, y_train, y_val = train_test_split(X_encoded, y, test_size=0.2, random_state=42)\n"
      ]
    },
    {
      "cell_type": "code",
      "source": [
        "\n",
        "# Convert data to PyTorch tensors\n",
        "X_train_torch = torch.FloatTensor(X_train.values)\n",
        "y_train_torch = torch.FloatTensor(y_train.values).view(-1, 1)\n",
        "X_val_torch = torch.FloatTensor(X_val.values)\n",
        "y_val_torch = torch.FloatTensor(y_val.values).view(-1, 1)\n",
        "\n",
        "# Define the PyTorch model\n",
        "class SimpleNN(nn.Module):\n",
        "    def __init__(self, input_dim):\n",
        "        super(SimpleNN, self).__init__()\n",
        "        self.fc1 = nn.Linear(input_dim, 128)\n",
        "        self.fc2 = nn.Linear(128, 64)\n",
        "        self.fc3 = nn.Linear(64, 32)\n",
        "        self.fc4 = nn.Linear(32, 1)\n",
        "\n",
        "    def forward(self, x):\n",
        "        x = torch.relu(self.fc1(x))\n",
        "        x = torch.relu(self.fc2(x))\n",
        "        x = torch.relu(self.fc3(x))\n",
        "        return torch.sigmoid(self.fc4(x))\n",
        "\n",
        "# Initialize the model\n",
        "model = SimpleNN(X_train.shape[1])\n",
        "\n",
        "# Loss function and optimizer\n",
        "criterion = nn.BCELoss()\n",
        "optimizer = optim.Adam(model.parameters())\n",
        "\n",
        "# Training loop\n",
        "num_epochs = 10\n",
        "start_time = time.time()\n",
        "for epoch in range(num_epochs):\n",
        "    optimizer.zero_grad()\n",
        "    outputs = model(X_train_torch)\n",
        "    loss = criterion(outputs, y_train_torch)\n",
        "    loss.backward()\n",
        "    optimizer.step()\n",
        "end_time = time.time()\n",
        "\n",
        "# Calculate training time\n",
        "training_time = end_time - start_time\n",
        "\n",
        "# Model evaluation\n",
        "model.eval()\n",
        "with torch.no_grad():\n",
        "    val_outputs = model(X_val_torch)\n",
        "    val_predictions = (val_outputs > 0.5).float()\n",
        "    correct = (val_predictions == y_val_torch).sum().item()\n",
        "    accuracy = correct / len(y_val)\n",
        "\n",
        "# Print results\n",
        "print(f\"Model Accuracy: {accuracy:.4f}\")\n",
        "print(f\"Training Time: {training_time:.2f} seconds\")"
      ],
      "metadata": {
        "colab": {
          "base_uri": "https://localhost:8080/"
        },
        "id": "-qK45G1gLUdB",
        "outputId": "6d5c20d3-a0b5-4f15-d6ea-7cc8e11fcbb1"
      },
      "execution_count": 2,
      "outputs": [
        {
          "output_type": "stream",
          "name": "stdout",
          "text": [
            "Model Accuracy: 0.9097\n",
            "Training Time: 2.79 seconds\n"
          ]
        }
      ]
    },
    {
      "cell_type": "code",
      "source": [
        "!pip install opacus"
      ],
      "metadata": {
        "colab": {
          "base_uri": "https://localhost:8080/"
        },
        "id": "R2N1-hcCLZ_c",
        "outputId": "7eb64801-c531-4dca-948c-54031fa89ab9"
      },
      "execution_count": 5,
      "outputs": [
        {
          "output_type": "stream",
          "name": "stdout",
          "text": [
            "Collecting opacus\n",
            "  Downloading opacus-1.4.0-py3-none-any.whl (224 kB)\n",
            "\u001b[?25l     \u001b[90m━━━━━━━━━━━━━━━━━━━━━━━━━━━━━━━━━━━━━━━━\u001b[0m \u001b[32m0.0/224.8 kB\u001b[0m \u001b[31m?\u001b[0m eta \u001b[36m-:--:--\u001b[0m\r\u001b[2K     \u001b[91m━━━━━━━━━━━━━━━━━━━━━━━\u001b[0m\u001b[91m╸\u001b[0m\u001b[90m━━━━━━━━━━━━━━━━\u001b[0m \u001b[32m133.1/224.8 kB\u001b[0m \u001b[31m3.8 MB/s\u001b[0m eta \u001b[36m0:00:01\u001b[0m\r\u001b[2K     \u001b[90m━━━━━━━━━━━━━━━━━━━━━━━━━━━━━━━━━━━━━━━━\u001b[0m \u001b[32m224.8/224.8 kB\u001b[0m \u001b[31m4.5 MB/s\u001b[0m eta \u001b[36m0:00:00\u001b[0m\n",
            "\u001b[?25hRequirement already satisfied: numpy>=1.15 in /usr/local/lib/python3.10/dist-packages (from opacus) (1.23.5)\n",
            "Requirement already satisfied: torch>=1.13 in /usr/local/lib/python3.10/dist-packages (from opacus) (2.1.0+cu118)\n",
            "Requirement already satisfied: scipy>=1.2 in /usr/local/lib/python3.10/dist-packages (from opacus) (1.11.3)\n",
            "Requirement already satisfied: opt-einsum>=3.3.0 in /usr/local/lib/python3.10/dist-packages (from opacus) (3.3.0)\n",
            "Requirement already satisfied: filelock in /usr/local/lib/python3.10/dist-packages (from torch>=1.13->opacus) (3.13.1)\n",
            "Requirement already satisfied: typing-extensions in /usr/local/lib/python3.10/dist-packages (from torch>=1.13->opacus) (4.5.0)\n",
            "Requirement already satisfied: sympy in /usr/local/lib/python3.10/dist-packages (from torch>=1.13->opacus) (1.12)\n",
            "Requirement already satisfied: networkx in /usr/local/lib/python3.10/dist-packages (from torch>=1.13->opacus) (3.2.1)\n",
            "Requirement already satisfied: jinja2 in /usr/local/lib/python3.10/dist-packages (from torch>=1.13->opacus) (3.1.2)\n",
            "Requirement already satisfied: fsspec in /usr/local/lib/python3.10/dist-packages (from torch>=1.13->opacus) (2023.6.0)\n",
            "Requirement already satisfied: triton==2.1.0 in /usr/local/lib/python3.10/dist-packages (from torch>=1.13->opacus) (2.1.0)\n",
            "Requirement already satisfied: MarkupSafe>=2.0 in /usr/local/lib/python3.10/dist-packages (from jinja2->torch>=1.13->opacus) (2.1.3)\n",
            "Requirement already satisfied: mpmath>=0.19 in /usr/local/lib/python3.10/dist-packages (from sympy->torch>=1.13->opacus) (1.3.0)\n",
            "Installing collected packages: opacus\n",
            "Successfully installed opacus-1.4.0\n"
          ]
        }
      ]
    },
    {
      "cell_type": "code",
      "source": [
        "from opacus import PrivacyEngine\n",
        "from torch.utils.data import DataLoader, TensorDataset\n",
        "import time"
      ],
      "metadata": {
        "id": "ngLnctSbLbnn"
      },
      "execution_count": 6,
      "outputs": []
    },
    {
      "cell_type": "code",
      "source": [
        "# Hyperparameters\n",
        "noise_multipliers = [0.5, 1.0, 1.5, 2.0, 3.0]\n",
        "num_epochs = 10\n",
        "batch_size = 64\n",
        "results = []\n",
        "\n",
        "for noise in noise_multipliers:\n",
        "    # Start the training time measurement\n",
        "    start_time = time.time()\n",
        "\n",
        "    # Create a fresh model, optimizer, and DataLoader for each iteration\n",
        "    model_dp = SimpleNN(X_train.shape[1])\n",
        "    criterion = nn.BCELoss()\n",
        "    optimizer = optim.Adam(model_dp.parameters())\n",
        "\n",
        "    train_dataset = TensorDataset(X_train_torch, y_train_torch)\n",
        "    train_loader = DataLoader(train_dataset, batch_size=batch_size, shuffle=True)\n",
        "\n",
        "    # Attach PrivacyEngine to the optimizer\n",
        "    privacy_engine = PrivacyEngine()\n",
        "    model_dp, optimizer, train_loader = privacy_engine.make_private(\n",
        "        module=model_dp,\n",
        "        optimizer=optimizer,\n",
        "        data_loader=train_loader,\n",
        "        noise_multiplier=noise,\n",
        "        max_grad_norm=1.0,\n",
        "    )\n",
        "\n",
        "    # Training loop\n",
        "    for epoch in range(num_epochs):\n",
        "        for inputs, labels in train_loader:\n",
        "            optimizer.zero_grad()\n",
        "            outputs = model_dp(inputs)\n",
        "            loss = criterion(outputs, labels)\n",
        "            loss.backward()\n",
        "            optimizer.step()\n",
        "\n",
        "    # End the training time measurement\n",
        "    end_time = time.time()\n",
        "\n",
        "    # Calculate total training time\n",
        "    training_time = end_time - start_time\n",
        "\n",
        "    # Evaluation\n",
        "    with torch.no_grad():\n",
        "        val_outputs = model_dp(X_val_torch)\n",
        "        val_predictions = (val_outputs > 0.5).float()\n",
        "        correct = (val_predictions == y_val_torch).sum().item()\n",
        "        dp_accuracy = correct / len(y_val)\n",
        "\n",
        "\n",
        "\n",
        "    results.append((noise, dp_accuracy, training_time))\n",
        "\n",
        "# Display results\n",
        "for noise, accuracy, time_spent in results:\n",
        "    print(f\"Noise: {noise}, Accuracy: {accuracy:.4f}, Training Time: {time_spent:.2f} seconds\")\n"
      ],
      "metadata": {
        "colab": {
          "base_uri": "https://localhost:8080/"
        },
        "id": "8NhE8j9xLbwT",
        "outputId": "23f1dda5-b6d4-43c1-b4fe-4a20d00ceea8"
      },
      "execution_count": 9,
      "outputs": [
        {
          "output_type": "stream",
          "name": "stdout",
          "text": [
            "Noise: 0.5, Accuracy: 0.9097, Training Time: 142.92 seconds\n",
            "Noise: 1.0, Accuracy: 0.9097, Training Time: 143.16 seconds\n",
            "Noise: 1.5, Accuracy: 0.9097, Training Time: 143.32 seconds\n",
            "Noise: 2.0, Accuracy: 0.9097, Training Time: 144.56 seconds\n",
            "Noise: 3.0, Accuracy: 0.9097, Training Time: 146.48 seconds\n"
          ]
        }
      ]
    },
    {
      "cell_type": "code",
      "source": [],
      "metadata": {
        "id": "6CX3TgUFMIbO"
      },
      "execution_count": null,
      "outputs": []
    }
  ]
}