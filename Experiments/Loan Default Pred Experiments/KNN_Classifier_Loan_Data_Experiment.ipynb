{
  "nbformat": 4,
  "nbformat_minor": 0,
  "metadata": {
    "colab": {
      "provenance": []
    },
    "kernelspec": {
      "name": "python3",
      "display_name": "Python 3"
    },
    "language_info": {
      "name": "python"
    }
  },
  "cells": [
    {
      "cell_type": "code",
      "execution_count": 1,
      "metadata": {
        "colab": {
          "base_uri": "https://localhost:8080/"
        },
        "id": "S8dge3_vYZ-U",
        "outputId": "6d947239-b4da-4f10-e958-f7ef223377da"
      },
      "outputs": [
        {
          "output_type": "stream",
          "name": "stdout",
          "text": [
            "<class 'pandas.core.frame.DataFrame'>\n",
            "RangeIndex: 67463 entries, 0 to 67462\n",
            "Data columns (total 35 columns):\n",
            " #   Column                        Non-Null Count  Dtype  \n",
            "---  ------                        --------------  -----  \n",
            " 0   ID                            67463 non-null  int64  \n",
            " 1   Loan Amount                   67463 non-null  int64  \n",
            " 2   Funded Amount                 67463 non-null  int64  \n",
            " 3   Funded Amount Investor        67463 non-null  float64\n",
            " 4   Term                          67463 non-null  int64  \n",
            " 5   Batch Enrolled                67463 non-null  object \n",
            " 6   Interest Rate                 67463 non-null  float64\n",
            " 7   Grade                         67463 non-null  object \n",
            " 8   Sub Grade                     67463 non-null  object \n",
            " 9   Employment Duration           67463 non-null  object \n",
            " 10  Home Ownership                67463 non-null  float64\n",
            " 11  Verification Status           67463 non-null  object \n",
            " 12  Payment Plan                  67463 non-null  object \n",
            " 13  Loan Title                    67463 non-null  object \n",
            " 14  Debit to Income               67463 non-null  float64\n",
            " 15  Delinquency - two years       67463 non-null  int64  \n",
            " 16  Inquires - six months         67463 non-null  int64  \n",
            " 17  Open Account                  67463 non-null  int64  \n",
            " 18  Public Record                 67463 non-null  int64  \n",
            " 19  Revolving Balance             67463 non-null  int64  \n",
            " 20  Revolving Utilities           67463 non-null  float64\n",
            " 21  Total Accounts                67463 non-null  int64  \n",
            " 22  Initial List Status           67463 non-null  object \n",
            " 23  Total Received Interest       67463 non-null  float64\n",
            " 24  Total Received Late Fee       67463 non-null  float64\n",
            " 25  Recoveries                    67463 non-null  float64\n",
            " 26  Collection Recovery Fee       67463 non-null  float64\n",
            " 27  Collection 12 months Medical  67463 non-null  int64  \n",
            " 28  Application Type              67463 non-null  object \n",
            " 29  Last week Pay                 67463 non-null  int64  \n",
            " 30  Accounts Delinquent           67463 non-null  int64  \n",
            " 31  Total Collection Amount       67463 non-null  int64  \n",
            " 32  Total Current Balance         67463 non-null  int64  \n",
            " 33  Total Revolving Credit Limit  67463 non-null  int64  \n",
            " 34  Loan Status                   67463 non-null  int64  \n",
            "dtypes: float64(9), int64(17), object(9)\n",
            "memory usage: 18.0+ MB\n",
            "None\n",
            "                 ID   Loan Amount  Funded Amount  Funded Amount Investor  \\\n",
            "count  6.746300e+04  67463.000000   67463.000000            67463.000000   \n",
            "mean   2.562761e+07  16848.902776   15770.599114            14621.799323   \n",
            "std    2.109155e+07   8367.865726    8150.992662             6785.345170   \n",
            "min    1.297933e+06   1014.000000    1014.000000             1114.590204   \n",
            "25%    6.570288e+06  10012.000000    9266.500000             9831.684984   \n",
            "50%    1.791565e+07  16073.000000   13042.000000            12793.682170   \n",
            "75%    4.271521e+07  22106.000000   21793.000000            17807.594120   \n",
            "max    7.224578e+07  35000.000000   34999.000000            34999.746430   \n",
            "\n",
            "               Term  Interest Rate  Home Ownership  Debit to Income  \\\n",
            "count  67463.000000   67463.000000    67463.000000     67463.000000   \n",
            "mean      58.173814      11.846258    80541.502522        23.299241   \n",
            "std        3.327441       3.718629    45029.120366         8.451824   \n",
            "min       36.000000       5.320006    14573.537170         0.675299   \n",
            "25%       58.000000       9.297147    51689.843335        16.756416   \n",
            "50%       59.000000      11.377696    69335.832680        22.656658   \n",
            "75%       59.000000      14.193533    94623.322785        30.048400   \n",
            "max       59.000000      27.182348   406561.536400        39.629862   \n",
            "\n",
            "       Delinquency - two years  Inquires - six months  ...  \\\n",
            "count             67463.000000           67463.000000  ...   \n",
            "mean                  0.327127               0.145754  ...   \n",
            "std                   0.800888               0.473291  ...   \n",
            "min                   0.000000               0.000000  ...   \n",
            "25%                   0.000000               0.000000  ...   \n",
            "50%                   0.000000               0.000000  ...   \n",
            "75%                   0.000000               0.000000  ...   \n",
            "max                   8.000000               5.000000  ...   \n",
            "\n",
            "       Total Received Late Fee    Recoveries  Collection Recovery Fee  \\\n",
            "count             67463.000000  67463.000000             67463.000000   \n",
            "mean                  1.143969     59.691578                 1.125141   \n",
            "std                   5.244365    357.026346                 3.489885   \n",
            "min                   0.000003      0.000036                 0.000036   \n",
            "25%                   0.021114      1.629818                 0.476259   \n",
            "50%                   0.043398      3.344524                 0.780141   \n",
            "75%                   0.071884      5.453727                 1.070566   \n",
            "max                  42.618882   4354.467419               166.833000   \n",
            "\n",
            "       Collection 12 months Medical  Last week Pay  Accounts Delinquent  \\\n",
            "count                  67463.000000   67463.000000              67463.0   \n",
            "mean                       0.021301      71.163260                  0.0   \n",
            "std                        0.144385      43.315845                  0.0   \n",
            "min                        0.000000       0.000000                  0.0   \n",
            "25%                        0.000000      35.000000                  0.0   \n",
            "50%                        0.000000      68.000000                  0.0   \n",
            "75%                        0.000000     105.000000                  0.0   \n",
            "max                        1.000000     161.000000                  0.0   \n",
            "\n",
            "       Total Collection Amount  Total Current Balance  \\\n",
            "count             67463.000000           6.746300e+04   \n",
            "mean                146.467990           1.595739e+05   \n",
            "std                 744.382233           1.390332e+05   \n",
            "min                   1.000000           6.170000e+02   \n",
            "25%                  24.000000           5.037900e+04   \n",
            "50%                  36.000000           1.183690e+05   \n",
            "75%                  46.000000           2.283750e+05   \n",
            "max               16421.000000           1.177412e+06   \n",
            "\n",
            "       Total Revolving Credit Limit   Loan Status  \n",
            "count                  67463.000000  67463.000000  \n",
            "mean                   23123.005544      0.092510  \n",
            "std                    20916.699999      0.289747  \n",
            "min                     1000.000000      0.000000  \n",
            "25%                     8155.500000      0.000000  \n",
            "50%                    16733.000000      0.000000  \n",
            "75%                    32146.500000      0.000000  \n",
            "max                   201169.000000      1.000000  \n",
            "\n",
            "[8 rows x 26 columns]\n",
            "ID                              0\n",
            "Loan Amount                     0\n",
            "Funded Amount                   0\n",
            "Funded Amount Investor          0\n",
            "Term                            0\n",
            "Batch Enrolled                  0\n",
            "Interest Rate                   0\n",
            "Grade                           0\n",
            "Sub Grade                       0\n",
            "Employment Duration             0\n",
            "Home Ownership                  0\n",
            "Verification Status             0\n",
            "Payment Plan                    0\n",
            "Loan Title                      0\n",
            "Debit to Income                 0\n",
            "Delinquency - two years         0\n",
            "Inquires - six months           0\n",
            "Open Account                    0\n",
            "Public Record                   0\n",
            "Revolving Balance               0\n",
            "Revolving Utilities             0\n",
            "Total Accounts                  0\n",
            "Initial List Status             0\n",
            "Total Received Interest         0\n",
            "Total Received Late Fee         0\n",
            "Recoveries                      0\n",
            "Collection Recovery Fee         0\n",
            "Collection 12 months Medical    0\n",
            "Application Type                0\n",
            "Last week Pay                   0\n",
            "Accounts Delinquent             0\n",
            "Total Collection Amount         0\n",
            "Total Current Balance           0\n",
            "Total Revolving Credit Limit    0\n",
            "Loan Status                     0\n",
            "dtype: int64\n"
          ]
        }
      ],
      "source": [
        "import pandas as pd\n",
        "import numpy as np\n",
        "from sklearn.model_selection import train_test_split\n",
        "from sklearn.preprocessing import StandardScaler, LabelEncoder\n",
        "from sklearn.neighbors import KNeighborsClassifier\n",
        "from sklearn.metrics import accuracy_score\n",
        "import time\n",
        "import matplotlib.pyplot as plt\n",
        "import seaborn as sns\n",
        "\n",
        "# Load the dataset\n",
        "data = pd.read_csv('train.csv')\n",
        "\n",
        "# Exploratory Data Analysis (EDA)\n",
        "# Display basic info and summary statistics\n",
        "print(data.info())\n",
        "print(data.describe())\n",
        "\n",
        "# Checking for missing values\n",
        "print(data.isnull().sum())\n"
      ]
    },
    {
      "cell_type": "code",
      "source": [
        "\n",
        "# Encoding categorical variables\n",
        "label_encoders = {}\n",
        "categorical_columns = data.select_dtypes(include=['object']).columns\n",
        "for col in categorical_columns:\n",
        "    label_encoders[col] = LabelEncoder()\n",
        "    data[col] = label_encoders[col].fit_transform(data[col])\n",
        "\n",
        "# Separating features and target variable\n",
        "X = data.drop('Loan Status', axis=1)\n",
        "y = data['Loan Status']\n",
        "\n",
        "# Splitting data into training and testing sets\n",
        "X_train, X_test, y_train, y_test = train_test_split(X, y, test_size=0.2, random_state=42)\n",
        "\n",
        "# Standardizing the data\n",
        "scaler = StandardScaler()\n",
        "X_train = scaler.fit_transform(X_train)\n",
        "X_test = scaler.transform(X_test)\n"
      ],
      "metadata": {
        "id": "shjMVGWaZ_88"
      },
      "execution_count": 2,
      "outputs": []
    },
    {
      "cell_type": "code",
      "source": [
        "# KNN Classifier\n",
        "knn = KNeighborsClassifier(n_neighbors=5)\n",
        "\n",
        "# Measuring training time\n",
        "start_time = time.time()\n",
        "knn.fit(X_train, y_train)\n",
        "training_time = time.time() - start_time\n",
        "print(f\"Training time: {training_time} seconds\")\n",
        "\n",
        "# Making predictions and calculating accuracy\n",
        "y_pred = knn.predict(X_test)\n",
        "accuracy = accuracy_score(y_test, y_pred)\n",
        "print(f\"Accuracy: {accuracy}\")"
      ],
      "metadata": {
        "colab": {
          "base_uri": "https://localhost:8080/"
        },
        "id": "KCjVclzCaP3_",
        "outputId": "7f749548-d858-4ac5-d2a3-abe49d00cf97"
      },
      "execution_count": 6,
      "outputs": [
        {
          "output_type": "stream",
          "name": "stdout",
          "text": [
            "Training time: 0.015697240829467773 seconds\n",
            "Accuracy: 0.9047654339287038\n"
          ]
        }
      ]
    },
    {
      "cell_type": "code",
      "source": [],
      "metadata": {
        "id": "G5Y8aitTbWxa"
      },
      "execution_count": 8,
      "outputs": []
    },
    {
      "cell_type": "code",
      "source": [
        "def dp_knn(X_train, y_train, X_test, y_test, epsilon=1.0):\n",
        "    # Compute standard deviation based on epsilon for Gaussian noise\n",
        "    sigma = np.sqrt(2 * np.log(1.25 / 0.01)) / epsilon\n",
        "\n",
        "    # Add Gaussian noise to the data\n",
        "    noisy_X_train = X_train + np.random.normal(0, sigma, X_train.shape)\n",
        "\n",
        "    # Train KNN\n",
        "    knn = KNeighborsClassifier(n_neighbors=3)\n",
        "    start_time = time.time()\n",
        "    knn.fit(noisy_X_train, y_train)\n",
        "    training_time = time.time() - start_time\n",
        "\n",
        "    # Predict and evaluate\n",
        "    y_pred = knn.predict(X_test)\n",
        "    accuracy = accuracy_score(y_test, y_pred)\n",
        "\n",
        "    return accuracy, training_time\n",
        "\n",
        "#"
      ],
      "metadata": {
        "id": "0FE1gaO3aah5"
      },
      "execution_count": 10,
      "outputs": []
    },
    {
      "cell_type": "code",
      "source": [
        "# Epsilon values for differential privacy\n",
        "epsilons = [0.5, 1.0, 1.5, 2.0, 3.0, 4.0]\n",
        "\n",
        "results = []\n",
        "for epsilon in epsilons:\n",
        "    accuracy, training_time = dp_knn(X_train, y_train, X_test, y_test, epsilon)\n",
        "    results.append((epsilon, accuracy, training_time))\n",
        "\n",
        "# Print results\n",
        "for epsilon, accuracy, training_time in results:\n",
        "    print(f\"Epsilon: {epsilon}, Accuracy: {accuracy:.2f}, Training Time: {training_time:.2f} seconds\")\n"
      ],
      "metadata": {
        "colab": {
          "base_uri": "https://localhost:8080/"
        },
        "id": "ncyj6chEbjlx",
        "outputId": "2ad60b7b-012c-4b2e-e174-2fdc1b51865e"
      },
      "execution_count": 12,
      "outputs": [
        {
          "output_type": "stream",
          "name": "stdout",
          "text": [
            "Epsilon: 0.5, Accuracy: 0.91, Training Time: 0.01 seconds\n",
            "Epsilon: 1.0, Accuracy: 0.90, Training Time: 0.01 seconds\n",
            "Epsilon: 1.5, Accuracy: 0.90, Training Time: 0.01 seconds\n",
            "Epsilon: 2.0, Accuracy: 0.89, Training Time: 0.01 seconds\n",
            "Epsilon: 3.0, Accuracy: 0.90, Training Time: 0.01 seconds\n",
            "Epsilon: 4.0, Accuracy: 0.89, Training Time: 0.01 seconds\n"
          ]
        }
      ]
    },
    {
      "cell_type": "code",
      "source": [],
      "metadata": {
        "id": "NRxKVOpwcjxZ"
      },
      "execution_count": null,
      "outputs": []
    }
  ]
}