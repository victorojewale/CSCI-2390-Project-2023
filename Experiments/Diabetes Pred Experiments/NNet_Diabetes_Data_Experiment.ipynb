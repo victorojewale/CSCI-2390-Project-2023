{
  "nbformat": 4,
  "nbformat_minor": 0,
  "metadata": {
    "colab": {
      "provenance": []
    },
    "kernelspec": {
      "name": "python3",
      "display_name": "Python 3"
    },
    "language_info": {
      "name": "python"
    }
  },
  "cells": [
    {
      "cell_type": "code",
      "execution_count": 1,
      "metadata": {
        "id": "vAG03s7Tr8cC"
      },
      "outputs": [],
      "source": [
        "# Import necessary libraries\n",
        "import pandas as pd\n",
        "import torch\n",
        "import torch.nn as nn\n",
        "import torch.optim as optim\n",
        "from sklearn.model_selection import train_test_split\n",
        "from sklearn.preprocessing import StandardScaler\n",
        "import time\n",
        "\n",
        "# Load the dataset\n",
        "diabetes_data = pd.read_csv(\"diabetes.csv\")\n",
        "\n",
        "# Separate the target ('Outcome') from the features\n",
        "X = diabetes_data.drop('Outcome', axis=1)\n",
        "y = diabetes_data['Outcome']\n",
        "\n",
        "# Standardize numerical features\n",
        "scaler = StandardScaler()\n",
        "X_scaled = scaler.fit_transform(X)\n",
        "\n",
        "# Split data into training and validation sets\n",
        "X_train, X_val, y_train, y_val = train_test_split(X_scaled, y, test_size=0.2, random_state=42)\n",
        "\n",
        "# Convert data to PyTorch tensors\n",
        "X_train_torch = torch.FloatTensor(X_train)\n",
        "y_train_torch = torch.FloatTensor(y_train.values).view(-1, 1)\n",
        "X_val_torch = torch.FloatTensor(X_val)\n",
        "y_val_torch = torch.FloatTensor(y_val.values).view(-1, 1)"
      ]
    },
    {
      "cell_type": "code",
      "source": [
        "class DiabetesNN(nn.Module):\n",
        "    def __init__(self, input_dim):\n",
        "        super(DiabetesNN, self).__init__()\n",
        "        self.fc1 = nn.Linear(input_dim, 128)\n",
        "        self.fc2 = nn.Linear(128, 64)\n",
        "        self.fc3 = nn.Linear(64, 32)\n",
        "        self.fc4 = nn.Linear(32, 1)\n",
        "\n",
        "    def forward(self, x):\n",
        "        x = torch.relu(self.fc1(x))\n",
        "        x = torch.relu(self.fc2(x))\n",
        "        x = torch.relu(self.fc3(x))\n",
        "        return torch.sigmoid(self.fc4(x))\n",
        "\n",
        "# Initialize the model\n",
        "model = DiabetesNN(X_train.shape[1])\n",
        "\n",
        "# Loss function and optimizer\n",
        "criterion = nn.BCELoss()\n",
        "optimizer = optim.Adam(model.parameters())\n",
        "\n",
        "# Training loop\n",
        "num_epochs = 10\n",
        "start_time = time.time()\n",
        "for epoch in range(num_epochs):\n",
        "    optimizer.zero_grad()\n",
        "    outputs = model(X_train_torch)\n",
        "    loss = criterion(outputs, y_train_torch)\n",
        "    loss.backward()\n",
        "    optimizer.step()\n",
        "end_time = time.time()\n",
        "\n",
        "# Calculate training time\n",
        "training_time = end_time - start_time\n",
        "\n",
        "# Model evaluation\n",
        "model.eval()\n",
        "with torch.no_grad():\n",
        "    val_outputs = model(X_val_torch)\n",
        "    val_predictions = (val_outputs > 0.5).float()\n",
        "    correct = (val_predictions == y_val_torch).sum().item()\n",
        "    accuracy = correct / len(y_val)\n",
        "\n",
        "# Print results\n",
        "print(f\"Model Accuracy: {accuracy:.4f}\")\n",
        "print(f\"Training Time: {training_time:.2f} seconds\")"
      ],
      "metadata": {
        "colab": {
          "base_uri": "https://localhost:8080/"
        },
        "id": "tYZX-2RBRGIt",
        "outputId": "077270a7-f854-46de-89fc-2c2b7c2907c3"
      },
      "execution_count": 2,
      "outputs": [
        {
          "output_type": "stream",
          "name": "stdout",
          "text": [
            "Model Accuracy: 0.7792\n",
            "Training Time: 0.15 seconds\n"
          ]
        }
      ]
    },
    {
      "cell_type": "code",
      "source": [],
      "metadata": {
        "id": "f4RDcEIyRz3G"
      },
      "execution_count": null,
      "outputs": []
    },
    {
      "cell_type": "code",
      "source": [
        "!pip install opacus"
      ],
      "metadata": {
        "colab": {
          "base_uri": "https://localhost:8080/"
        },
        "id": "Bl_hVTBERz88",
        "outputId": "80828cd2-ceed-4a16-9a95-e4d1d039c3c8"
      },
      "execution_count": 4,
      "outputs": [
        {
          "output_type": "stream",
          "name": "stdout",
          "text": [
            "Collecting opacus\n",
            "  Downloading opacus-1.4.0-py3-none-any.whl (224 kB)\n",
            "\u001b[2K     \u001b[90m━━━━━━━━━━━━━━━━━━━━━━━━━━━━━━━━━━━━━━━━\u001b[0m \u001b[32m224.8/224.8 kB\u001b[0m \u001b[31m3.1 MB/s\u001b[0m eta \u001b[36m0:00:00\u001b[0m\n",
            "\u001b[?25hRequirement already satisfied: numpy>=1.15 in /usr/local/lib/python3.10/dist-packages (from opacus) (1.23.5)\n",
            "Requirement already satisfied: torch>=1.13 in /usr/local/lib/python3.10/dist-packages (from opacus) (2.1.0+cu118)\n",
            "Requirement already satisfied: scipy>=1.2 in /usr/local/lib/python3.10/dist-packages (from opacus) (1.11.3)\n",
            "Requirement already satisfied: opt-einsum>=3.3.0 in /usr/local/lib/python3.10/dist-packages (from opacus) (3.3.0)\n",
            "Requirement already satisfied: filelock in /usr/local/lib/python3.10/dist-packages (from torch>=1.13->opacus) (3.13.1)\n",
            "Requirement already satisfied: typing-extensions in /usr/local/lib/python3.10/dist-packages (from torch>=1.13->opacus) (4.5.0)\n",
            "Requirement already satisfied: sympy in /usr/local/lib/python3.10/dist-packages (from torch>=1.13->opacus) (1.12)\n",
            "Requirement already satisfied: networkx in /usr/local/lib/python3.10/dist-packages (from torch>=1.13->opacus) (3.2.1)\n",
            "Requirement already satisfied: jinja2 in /usr/local/lib/python3.10/dist-packages (from torch>=1.13->opacus) (3.1.2)\n",
            "Requirement already satisfied: fsspec in /usr/local/lib/python3.10/dist-packages (from torch>=1.13->opacus) (2023.6.0)\n",
            "Requirement already satisfied: triton==2.1.0 in /usr/local/lib/python3.10/dist-packages (from torch>=1.13->opacus) (2.1.0)\n",
            "Requirement already satisfied: MarkupSafe>=2.0 in /usr/local/lib/python3.10/dist-packages (from jinja2->torch>=1.13->opacus) (2.1.3)\n",
            "Requirement already satisfied: mpmath>=0.19 in /usr/local/lib/python3.10/dist-packages (from sympy->torch>=1.13->opacus) (1.3.0)\n",
            "Installing collected packages: opacus\n",
            "Successfully installed opacus-1.4.0\n"
          ]
        }
      ]
    },
    {
      "cell_type": "code",
      "source": [
        "from torch.utils.data import DataLoader, TensorDataset\n",
        "from opacus import PrivacyEngine"
      ],
      "metadata": {
        "id": "NMFOu3FzR0Cj"
      },
      "execution_count": 5,
      "outputs": []
    },
    {
      "cell_type": "code",
      "source": [
        "# Differential Privacy Training\n",
        "# Hyperparameters\n",
        "noise_multipliers = [0.5, 1.0, 1.5, 2.0, 3.0]\n",
        "batch_size = 64\n",
        "results = []\n",
        "\n",
        "for noise in noise_multipliers:\n",
        "    # Create a fresh model, optimizer, and DataLoader for each iteration\n",
        "    model_dp = DiabetesNN(X_train.shape[1])\n",
        "    optimizer = optim.Adam(model_dp.parameters())\n",
        "    train_dataset = TensorDataset(X_train_torch, y_train_torch)\n",
        "    train_loader = DataLoader(train_dataset, batch_size=batch_size, shuffle=True)\n",
        "\n",
        "    # Attach PrivacyEngine to the optimizer\n",
        "    privacy_engine = PrivacyEngine()\n",
        "    model_dp, optimizer, train_loader = privacy_engine.make_private(\n",
        "        module=model_dp,\n",
        "        optimizer=optimizer,\n",
        "        data_loader=train_loader,\n",
        "        noise_multiplier=noise,\n",
        "        max_grad_norm=1.0,\n",
        "    )\n",
        "\n",
        "    # Training loop for DP model\n",
        "    start_time_dp = time.time()\n",
        "    for epoch in range(num_epochs):\n",
        "        for inputs, labels in train_loader:\n",
        "            optimizer.zero_grad()\n",
        "            outputs_dp = model_dp(inputs)\n",
        "            loss_dp = criterion(outputs_dp, labels)\n",
        "            loss_dp.backward()\n",
        "            optimizer.step()\n",
        "    end_time_dp = time.time()\n",
        "\n",
        "    # Evaluation for DP model\n",
        "    with torch.no_grad():\n",
        "        val_outputs_dp = model_dp(X_val_torch)\n",
        "        val_predictions_dp = (val_outputs_dp > 0.5).float()\n",
        "        correct_dp = (val_predictions_dp == y_val_torch).sum().item()\n",
        "        dp_accuracy = correct_dp / len(y_val)\n",
        "\n",
        "\n",
        "\n",
        "    # Record results\n",
        "    results.append((noise, dp_accuracy,  end_time_dp - start_time_dp))\n",
        "\n",
        "# Display DP results\n",
        "for noise, accuracy, time_spent in results:\n",
        "    print(f\"Noise: {noise}, DP Accuracy: {accuracy:.4f}, DP Training Time: {time_spent:.2f} seconds\")"
      ],
      "metadata": {
        "colab": {
          "base_uri": "https://localhost:8080/"
        },
        "id": "JqVCLrEkRKnY",
        "outputId": "47f77540-ee7f-4021-fed0-9ee1453f040f"
      },
      "execution_count": 8,
      "outputs": [
        {
          "output_type": "stream",
          "name": "stdout",
          "text": [
            "Noise: 0.5, DP Accuracy: 0.6883, DP Training Time: 1.16 seconds\n",
            "Noise: 1.0, DP Accuracy: 0.6429, DP Training Time: 1.14 seconds\n",
            "Noise: 1.5, DP Accuracy: 0.6494, DP Training Time: 1.13 seconds\n",
            "Noise: 2.0, DP Accuracy: 0.6494, DP Training Time: 0.88 seconds\n",
            "Noise: 3.0, DP Accuracy: 0.6429, DP Training Time: 0.87 seconds\n"
          ]
        }
      ]
    },
    {
      "cell_type": "code",
      "source": [],
      "metadata": {
        "id": "YKq85A3iRuYV"
      },
      "execution_count": null,
      "outputs": []
    },
    {
      "cell_type": "code",
      "source": [],
      "metadata": {
        "id": "BBQylLFhRy74"
      },
      "execution_count": null,
      "outputs": []
    }
  ]
}